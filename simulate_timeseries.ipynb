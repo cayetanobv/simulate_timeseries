{
 "cells": [
  {
   "cell_type": "code",
   "execution_count": 1,
   "metadata": {},
   "outputs": [],
   "source": [
    "import pandas as pd\n",
    "import numpy as np\n",
    "from scipy import interpolate"
   ]
  },
  {
   "cell_type": "code",
   "execution_count": 2,
   "metadata": {},
   "outputs": [],
   "source": [
    "itplt = [[0, 0.003, 0.01],\n",
    " [5, 0.003, 0.01],\n",
    " [6, 0.02, 0.04],\n",
    " [9, 0.02, 0.04],\n",
    " [10, 0.03, 0.05],\n",
    " [14, 0.03, 0.05],\n",
    " [15, 0.02, 0.04],\n",
    " [19, 0.02, 0.04],\n",
    " [20, 0.003, 0.01],\n",
    " [24, 0.003, 0.01]]\n",
    "\n",
    "itplt_arr = np.array(itplt)"
   ]
  },
  {
   "cell_type": "code",
   "execution_count": 3,
   "metadata": {},
   "outputs": [
    {
     "data": {
      "text/plain": [
       "((array([ 9., 10.]), array([0.02, 0.04]), array([0.03, 0.05])),\n",
       " (array([0., 9.]), array([0.003, 0.01 ]), array([0.02, 0.04])))"
      ]
     },
     "execution_count": 3,
     "metadata": {},
     "output_type": "execute_result"
    }
   ],
   "source": [
    "def __get_itplt_value(vmin, vmax):\n",
    "    _vmin = np.max(itplt_arr[itplt_arr[:,0] <= float(vmin)][:,0])\n",
    "    _vmax = np.min(itplt_arr[itplt_arr[:,0] >= float(vmax)][:,0])\n",
    "    vals = itplt_arr[(itplt_arr[:,0] >= _vmin) & (itplt_arr[:,0] <= _vmax)][:,1:3]\n",
    "    return (np.array([_vmin, _vmax]), np.squeeze(vals[:1,]), np.squeeze(vals[-1:,]))\n",
    "\n",
    "def get_itplt_value(hour):\n",
    "    return __get_itplt_value(hour, hour + 1)\n",
    "\n",
    "# example\n",
    "get_itplt_value(9), __get_itplt_value(0, 7)"
   ]
  },
  {
   "cell_type": "code",
   "execution_count": 4,
   "metadata": {},
   "outputs": [
    {
     "data": {
      "text/plain": [
       "(array(27.42511166), array(28.78495881))"
      ]
     },
     "execution_count": 4,
     "metadata": {},
     "output_type": "execute_result"
    }
   ],
   "source": [
    "def time_random_lineal_interp(val, thds):\n",
    "    x_thds, y_thds_min, y_thds_max = thds\n",
    "    x = np.array([x_thds[0], x_thds[1]])\n",
    "    y1 = np.random.uniform(y_thds_min[0], y_thds_min[1])\n",
    "    y2 = np.random.uniform(y_thds_max[0], y_thds_max[1])\n",
    "    y = np.array([y1, y2])\n",
    "    f = interpolate.interp1d(x, y)\n",
    "    return f(val)\n",
    "\n",
    "#examples\n",
    "time_random_lineal_interp(.25, ([0, 1], [20, 30], [25, 35])), time_random_lineal_interp(.25, ([0, 1], [20, 30], [25, 35]))"
   ]
  },
  {
   "cell_type": "code",
   "execution_count": 5,
   "metadata": {},
   "outputs": [],
   "source": [
    "rng = pd.date_range('2018-01-01T00:00Z', '2018-01-27T23:59Z', freq='15T')"
   ]
  },
  {
   "cell_type": "code",
   "execution_count": 6,
   "metadata": {},
   "outputs": [
    {
     "data": {
      "text/plain": [
       "(Timestamp('2018-01-27 23:45:00+0000', tz='UTC', freq='15T'),\n",
       " Timestamp('2018-01-01 00:00:00+0000', tz='UTC', freq='15T'),\n",
       " 2592)"
      ]
     },
     "execution_count": 6,
     "metadata": {},
     "output_type": "execute_result"
    }
   ],
   "source": [
    "max(rng), min(rng), len(rng)"
   ]
  },
  {
   "cell_type": "code",
   "execution_count": 7,
   "metadata": {},
   "outputs": [],
   "source": [
    "df = pd.DataFrame({'time': rng})"
   ]
  },
  {
   "cell_type": "code",
   "execution_count": 8,
   "metadata": {},
   "outputs": [
    {
     "data": {
      "text/html": [
       "<div>\n",
       "<style scoped>\n",
       "    .dataframe tbody tr th:only-of-type {\n",
       "        vertical-align: middle;\n",
       "    }\n",
       "\n",
       "    .dataframe tbody tr th {\n",
       "        vertical-align: top;\n",
       "    }\n",
       "\n",
       "    .dataframe thead th {\n",
       "        text-align: right;\n",
       "    }\n",
       "</style>\n",
       "<table border=\"1\" class=\"dataframe\">\n",
       "  <thead>\n",
       "    <tr style=\"text-align: right;\">\n",
       "      <th></th>\n",
       "      <th>time</th>\n",
       "    </tr>\n",
       "  </thead>\n",
       "  <tbody>\n",
       "    <tr>\n",
       "      <th>0</th>\n",
       "      <td>2018-01-01 00:00:00+00:00</td>\n",
       "    </tr>\n",
       "    <tr>\n",
       "      <th>1</th>\n",
       "      <td>2018-01-01 00:15:00+00:00</td>\n",
       "    </tr>\n",
       "    <tr>\n",
       "      <th>2</th>\n",
       "      <td>2018-01-01 00:30:00+00:00</td>\n",
       "    </tr>\n",
       "    <tr>\n",
       "      <th>3</th>\n",
       "      <td>2018-01-01 00:45:00+00:00</td>\n",
       "    </tr>\n",
       "    <tr>\n",
       "      <th>4</th>\n",
       "      <td>2018-01-01 01:00:00+00:00</td>\n",
       "    </tr>\n",
       "  </tbody>\n",
       "</table>\n",
       "</div>"
      ],
      "text/plain": [
       "                       time\n",
       "0 2018-01-01 00:00:00+00:00\n",
       "1 2018-01-01 00:15:00+00:00\n",
       "2 2018-01-01 00:30:00+00:00\n",
       "3 2018-01-01 00:45:00+00:00\n",
       "4 2018-01-01 01:00:00+00:00"
      ]
     },
     "execution_count": 8,
     "metadata": {},
     "output_type": "execute_result"
    }
   ],
   "source": [
    "df.head()"
   ]
  },
  {
   "cell_type": "code",
   "execution_count": 9,
   "metadata": {},
   "outputs": [
    {
     "name": "stdout",
     "output_type": "stream",
     "text": [
      "<class 'pandas.core.frame.DataFrame'>\n",
      "RangeIndex: 2592 entries, 0 to 2591\n",
      "Data columns (total 1 columns):\n",
      "time    2592 non-null datetime64[ns, UTC]\n",
      "dtypes: datetime64[ns, UTC](1)\n",
      "memory usage: 20.3 KB\n"
     ]
    }
   ],
   "source": [
    "df.info()"
   ]
  },
  {
   "cell_type": "code",
   "execution_count": 10,
   "metadata": {},
   "outputs": [],
   "source": [
    "df['hour'] = df.time.dt.hour\n",
    "df['val_to_itpl'] = df['hour'] + (df.time.dt.minute) / 60.0"
   ]
  },
  {
   "cell_type": "code",
   "execution_count": 11,
   "metadata": {},
   "outputs": [
    {
     "name": "stdout",
     "output_type": "stream",
     "text": [
      "70.3 ms ± 2.51 ms per loop (mean ± std. dev. of 7 runs, 10 loops each)\n"
     ]
    }
   ],
   "source": [
    "%timeit df['itplt'] = df.hour.map(get_itplt_value)"
   ]
  },
  {
   "cell_type": "code",
   "execution_count": 12,
   "metadata": {},
   "outputs": [
    {
     "name": "stdout",
     "output_type": "stream",
     "text": [
      "415 ms ± 17.6 ms per loop (mean ± std. dev. of 7 runs, 1 loop each)\n"
     ]
    }
   ],
   "source": [
    "%timeit df['val_01'] = df.apply(lambda x: time_random_lineal_interp(x['val_to_itpl'], x['itplt']), axis=1)"
   ]
  },
  {
   "cell_type": "code",
   "execution_count": 13,
   "metadata": {
    "scrolled": true
   },
   "outputs": [
    {
     "data": {
      "text/html": [
       "<div>\n",
       "<style scoped>\n",
       "    .dataframe tbody tr th:only-of-type {\n",
       "        vertical-align: middle;\n",
       "    }\n",
       "\n",
       "    .dataframe tbody tr th {\n",
       "        vertical-align: top;\n",
       "    }\n",
       "\n",
       "    .dataframe thead th {\n",
       "        text-align: right;\n",
       "    }\n",
       "</style>\n",
       "<table border=\"1\" class=\"dataframe\">\n",
       "  <thead>\n",
       "    <tr style=\"text-align: right;\">\n",
       "      <th></th>\n",
       "      <th>time</th>\n",
       "      <th>hour</th>\n",
       "      <th>val_to_itpl</th>\n",
       "      <th>itplt</th>\n",
       "      <th>val_01</th>\n",
       "    </tr>\n",
       "  </thead>\n",
       "  <tbody>\n",
       "    <tr>\n",
       "      <th>0</th>\n",
       "      <td>2018-01-01 00:00:00+00:00</td>\n",
       "      <td>0</td>\n",
       "      <td>0.00</td>\n",
       "      <td>([0.0, 5.0], [0.003, 0.01], [0.003, 0.01])</td>\n",
       "      <td>0.00845798517978882</td>\n",
       "    </tr>\n",
       "    <tr>\n",
       "      <th>1</th>\n",
       "      <td>2018-01-01 00:15:00+00:00</td>\n",
       "      <td>0</td>\n",
       "      <td>0.25</td>\n",
       "      <td>([0.0, 5.0], [0.003, 0.01], [0.003, 0.01])</td>\n",
       "      <td>0.006093208477049049</td>\n",
       "    </tr>\n",
       "    <tr>\n",
       "      <th>2</th>\n",
       "      <td>2018-01-01 00:30:00+00:00</td>\n",
       "      <td>0</td>\n",
       "      <td>0.50</td>\n",
       "      <td>([0.0, 5.0], [0.003, 0.01], [0.003, 0.01])</td>\n",
       "      <td>0.004730036130632735</td>\n",
       "    </tr>\n",
       "    <tr>\n",
       "      <th>3</th>\n",
       "      <td>2018-01-01 00:45:00+00:00</td>\n",
       "      <td>0</td>\n",
       "      <td>0.75</td>\n",
       "      <td>([0.0, 5.0], [0.003, 0.01], [0.003, 0.01])</td>\n",
       "      <td>0.00693894983360253</td>\n",
       "    </tr>\n",
       "    <tr>\n",
       "      <th>4</th>\n",
       "      <td>2018-01-01 01:00:00+00:00</td>\n",
       "      <td>1</td>\n",
       "      <td>1.00</td>\n",
       "      <td>([0.0, 5.0], [0.003, 0.01], [0.003, 0.01])</td>\n",
       "      <td>0.00960276781835084</td>\n",
       "    </tr>\n",
       "    <tr>\n",
       "      <th>5</th>\n",
       "      <td>2018-01-01 01:15:00+00:00</td>\n",
       "      <td>1</td>\n",
       "      <td>1.25</td>\n",
       "      <td>([0.0, 5.0], [0.003, 0.01], [0.003, 0.01])</td>\n",
       "      <td>0.008910629808434182</td>\n",
       "    </tr>\n",
       "    <tr>\n",
       "      <th>6</th>\n",
       "      <td>2018-01-01 01:30:00+00:00</td>\n",
       "      <td>1</td>\n",
       "      <td>1.50</td>\n",
       "      <td>([0.0, 5.0], [0.003, 0.01], [0.003, 0.01])</td>\n",
       "      <td>0.006011334292495391</td>\n",
       "    </tr>\n",
       "    <tr>\n",
       "      <th>7</th>\n",
       "      <td>2018-01-01 01:45:00+00:00</td>\n",
       "      <td>1</td>\n",
       "      <td>1.75</td>\n",
       "      <td>([0.0, 5.0], [0.003, 0.01], [0.003, 0.01])</td>\n",
       "      <td>0.005485783292518972</td>\n",
       "    </tr>\n",
       "    <tr>\n",
       "      <th>8</th>\n",
       "      <td>2018-01-01 02:00:00+00:00</td>\n",
       "      <td>2</td>\n",
       "      <td>2.00</td>\n",
       "      <td>([0.0, 5.0], [0.003, 0.01], [0.003, 0.01])</td>\n",
       "      <td>0.009534129527790713</td>\n",
       "    </tr>\n",
       "    <tr>\n",
       "      <th>9</th>\n",
       "      <td>2018-01-01 02:15:00+00:00</td>\n",
       "      <td>2</td>\n",
       "      <td>2.25</td>\n",
       "      <td>([0.0, 5.0], [0.003, 0.01], [0.003, 0.01])</td>\n",
       "      <td>0.0064960921361949964</td>\n",
       "    </tr>\n",
       "    <tr>\n",
       "      <th>10</th>\n",
       "      <td>2018-01-01 02:30:00+00:00</td>\n",
       "      <td>2</td>\n",
       "      <td>2.50</td>\n",
       "      <td>([0.0, 5.0], [0.003, 0.01], [0.003, 0.01])</td>\n",
       "      <td>0.0068442776671515815</td>\n",
       "    </tr>\n",
       "    <tr>\n",
       "      <th>11</th>\n",
       "      <td>2018-01-01 02:45:00+00:00</td>\n",
       "      <td>2</td>\n",
       "      <td>2.75</td>\n",
       "      <td>([0.0, 5.0], [0.003, 0.01], [0.003, 0.01])</td>\n",
       "      <td>0.008464048111091655</td>\n",
       "    </tr>\n",
       "    <tr>\n",
       "      <th>12</th>\n",
       "      <td>2018-01-01 03:00:00+00:00</td>\n",
       "      <td>3</td>\n",
       "      <td>3.00</td>\n",
       "      <td>([0.0, 5.0], [0.003, 0.01], [0.003, 0.01])</td>\n",
       "      <td>0.0081419504218869</td>\n",
       "    </tr>\n",
       "    <tr>\n",
       "      <th>13</th>\n",
       "      <td>2018-01-01 03:15:00+00:00</td>\n",
       "      <td>3</td>\n",
       "      <td>3.25</td>\n",
       "      <td>([0.0, 5.0], [0.003, 0.01], [0.003, 0.01])</td>\n",
       "      <td>0.0052770796944853395</td>\n",
       "    </tr>\n",
       "    <tr>\n",
       "      <th>14</th>\n",
       "      <td>2018-01-01 03:30:00+00:00</td>\n",
       "      <td>3</td>\n",
       "      <td>3.50</td>\n",
       "      <td>([0.0, 5.0], [0.003, 0.01], [0.003, 0.01])</td>\n",
       "      <td>0.0057142363062791645</td>\n",
       "    </tr>\n",
       "    <tr>\n",
       "      <th>15</th>\n",
       "      <td>2018-01-01 03:45:00+00:00</td>\n",
       "      <td>3</td>\n",
       "      <td>3.75</td>\n",
       "      <td>([0.0, 5.0], [0.003, 0.01], [0.003, 0.01])</td>\n",
       "      <td>0.009171134117961029</td>\n",
       "    </tr>\n",
       "    <tr>\n",
       "      <th>16</th>\n",
       "      <td>2018-01-01 04:00:00+00:00</td>\n",
       "      <td>4</td>\n",
       "      <td>4.00</td>\n",
       "      <td>([0.0, 5.0], [0.003, 0.01], [0.003, 0.01])</td>\n",
       "      <td>0.007683344534884736</td>\n",
       "    </tr>\n",
       "    <tr>\n",
       "      <th>17</th>\n",
       "      <td>2018-01-01 04:15:00+00:00</td>\n",
       "      <td>4</td>\n",
       "      <td>4.25</td>\n",
       "      <td>([0.0, 5.0], [0.003, 0.01], [0.003, 0.01])</td>\n",
       "      <td>0.008939343239030239</td>\n",
       "    </tr>\n",
       "    <tr>\n",
       "      <th>18</th>\n",
       "      <td>2018-01-01 04:30:00+00:00</td>\n",
       "      <td>4</td>\n",
       "      <td>4.50</td>\n",
       "      <td>([0.0, 5.0], [0.003, 0.01], [0.003, 0.01])</td>\n",
       "      <td>0.006403605722473196</td>\n",
       "    </tr>\n",
       "    <tr>\n",
       "      <th>19</th>\n",
       "      <td>2018-01-01 04:45:00+00:00</td>\n",
       "      <td>4</td>\n",
       "      <td>4.75</td>\n",
       "      <td>([0.0, 5.0], [0.003, 0.01], [0.003, 0.01])</td>\n",
       "      <td>0.00846100135520444</td>\n",
       "    </tr>\n",
       "  </tbody>\n",
       "</table>\n",
       "</div>"
      ],
      "text/plain": [
       "                        time  hour  val_to_itpl  \\\n",
       "0  2018-01-01 00:00:00+00:00     0         0.00   \n",
       "1  2018-01-01 00:15:00+00:00     0         0.25   \n",
       "2  2018-01-01 00:30:00+00:00     0         0.50   \n",
       "3  2018-01-01 00:45:00+00:00     0         0.75   \n",
       "4  2018-01-01 01:00:00+00:00     1         1.00   \n",
       "5  2018-01-01 01:15:00+00:00     1         1.25   \n",
       "6  2018-01-01 01:30:00+00:00     1         1.50   \n",
       "7  2018-01-01 01:45:00+00:00     1         1.75   \n",
       "8  2018-01-01 02:00:00+00:00     2         2.00   \n",
       "9  2018-01-01 02:15:00+00:00     2         2.25   \n",
       "10 2018-01-01 02:30:00+00:00     2         2.50   \n",
       "11 2018-01-01 02:45:00+00:00     2         2.75   \n",
       "12 2018-01-01 03:00:00+00:00     3         3.00   \n",
       "13 2018-01-01 03:15:00+00:00     3         3.25   \n",
       "14 2018-01-01 03:30:00+00:00     3         3.50   \n",
       "15 2018-01-01 03:45:00+00:00     3         3.75   \n",
       "16 2018-01-01 04:00:00+00:00     4         4.00   \n",
       "17 2018-01-01 04:15:00+00:00     4         4.25   \n",
       "18 2018-01-01 04:30:00+00:00     4         4.50   \n",
       "19 2018-01-01 04:45:00+00:00     4         4.75   \n",
       "\n",
       "                                         itplt                 val_01  \n",
       "0   ([0.0, 5.0], [0.003, 0.01], [0.003, 0.01])    0.00845798517978882  \n",
       "1   ([0.0, 5.0], [0.003, 0.01], [0.003, 0.01])   0.006093208477049049  \n",
       "2   ([0.0, 5.0], [0.003, 0.01], [0.003, 0.01])   0.004730036130632735  \n",
       "3   ([0.0, 5.0], [0.003, 0.01], [0.003, 0.01])    0.00693894983360253  \n",
       "4   ([0.0, 5.0], [0.003, 0.01], [0.003, 0.01])    0.00960276781835084  \n",
       "5   ([0.0, 5.0], [0.003, 0.01], [0.003, 0.01])   0.008910629808434182  \n",
       "6   ([0.0, 5.0], [0.003, 0.01], [0.003, 0.01])   0.006011334292495391  \n",
       "7   ([0.0, 5.0], [0.003, 0.01], [0.003, 0.01])   0.005485783292518972  \n",
       "8   ([0.0, 5.0], [0.003, 0.01], [0.003, 0.01])   0.009534129527790713  \n",
       "9   ([0.0, 5.0], [0.003, 0.01], [0.003, 0.01])  0.0064960921361949964  \n",
       "10  ([0.0, 5.0], [0.003, 0.01], [0.003, 0.01])  0.0068442776671515815  \n",
       "11  ([0.0, 5.0], [0.003, 0.01], [0.003, 0.01])   0.008464048111091655  \n",
       "12  ([0.0, 5.0], [0.003, 0.01], [0.003, 0.01])     0.0081419504218869  \n",
       "13  ([0.0, 5.0], [0.003, 0.01], [0.003, 0.01])  0.0052770796944853395  \n",
       "14  ([0.0, 5.0], [0.003, 0.01], [0.003, 0.01])  0.0057142363062791645  \n",
       "15  ([0.0, 5.0], [0.003, 0.01], [0.003, 0.01])   0.009171134117961029  \n",
       "16  ([0.0, 5.0], [0.003, 0.01], [0.003, 0.01])   0.007683344534884736  \n",
       "17  ([0.0, 5.0], [0.003, 0.01], [0.003, 0.01])   0.008939343239030239  \n",
       "18  ([0.0, 5.0], [0.003, 0.01], [0.003, 0.01])   0.006403605722473196  \n",
       "19  ([0.0, 5.0], [0.003, 0.01], [0.003, 0.01])    0.00846100135520444  "
      ]
     },
     "execution_count": 13,
     "metadata": {},
     "output_type": "execute_result"
    }
   ],
   "source": [
    "df.head(20)"
   ]
  },
  {
   "cell_type": "code",
   "execution_count": 17,
   "metadata": {},
   "outputs": [
    {
     "data": {
      "text/plain": [
       "[<matplotlib.lines.Line2D at 0x7f4ed1eb67b8>]"
      ]
     },
     "execution_count": 17,
     "metadata": {},
     "output_type": "execute_result"
    },
    {
     "data": {
      "image/png": "[encoded data removed]",
      "text/plain": [
       "<matplotlib.figure.Figure at 0x7f4ed1ef4ef0>"
      ]
     },
     "metadata": {},
     "output_type": "display_data"
    }
   ],
   "source": [
    "import matplotlib.pyplot as plt\n",
    "\n",
    "plt.figure(figsize=(18,5))\n",
    "\n",
    "size = 300\n",
    "\n",
    "plt.plot(df.time[:size,], df.val_01[:size,])"
   ]
  },
  {
   "cell_type": "code",
   "execution_count": null,
   "metadata": {},
   "outputs": [],
   "source": []
  }
 ],
 "metadata": {
  "kernelspec": {
   "display_name": "Python 3",
   "language": "python",
   "name": "python3"
  },
  "language_info": {
   "codemirror_mode": {
    "name": "ipython",
    "version": 3
   },
   "file_extension": ".py",
   "mimetype": "text/x-python",
   "name": "python",
   "nbconvert_exporter": "python",
   "pygments_lexer": "ipython3",
   "version": "3.6.0"
  }
 },
 "nbformat": 4,
 "nbformat_minor": 2
}
